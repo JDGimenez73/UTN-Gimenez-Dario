{
 "cells": [
  {
   "cell_type": "markdown",
   "id": "63ff8469",
   "metadata": {},
   "source": [
    "1.Crear una lista con los números del 1 al 100 que sean múltiplos de 4. Utilizar la función\n",
    "range."
   ]
  },
  {
   "cell_type": "code",
   "execution_count": 4,
   "id": "0b27b0d0",
   "metadata": {},
   "outputs": [
    {
     "name": "stdout",
     "output_type": "stream",
     "text": [
      "[1, 5, 9, 13, 17, 21, 25, 29, 33, 37, 41, 45, 49, 53, 57, 61, 65, 69, 73, 77, 81, 85, 89, 93, 97]\n"
     ]
    }
   ],
   "source": [
    "lista_range = list(range(1,100,4))\n",
    "\n",
    "print(lista_range)"
   ]
  },
  {
   "cell_type": "markdown",
   "id": "d3112351",
   "metadata": {},
   "source": [
    "2.Crear una lista con cinco elementos (colocar los elementos que más te gusten) y mostrar el\n",
    "penúltimo. ¡Puedes hacerlo como se muestra en los videos o bien investigar cómo funciona el\n",
    "indexing con números negativos"
   ]
  },
  {
   "cell_type": "code",
   "execution_count": null,
   "id": "89150a3f",
   "metadata": {},
   "outputs": [
    {
     "name": "stdout",
     "output_type": "stream",
     "text": [
      "Futbol\n"
     ]
    }
   ],
   "source": [
    "lista_elementos = [\"Ajedrez\",\"Galletitas\",\"Perro\",\"Avion\",\"Futbol\",\"Teatro\"]\n",
    "\n",
    "penultimo = lista_elementos[-2]\n",
    "\n",
    "print(penultimo)\n"
   ]
  },
  {
   "cell_type": "markdown",
   "id": "32144cc8",
   "metadata": {},
   "source": [
    "3.Crear una lista vacía, agregar tres palabras con append e imprimir la lista resultante por\n",
    "pantalla. Pista: para crear una lista vacía debes colocar los corchetes sin nada en su interior."
   ]
  },
  {
   "cell_type": "code",
   "execution_count": 13,
   "id": "3f32d807",
   "metadata": {},
   "outputs": [
    {
     "name": "stdout",
     "output_type": "stream",
     "text": [
      "['Calecita', 'Tobogan', 'SubeyBaja']\n"
     ]
    }
   ],
   "source": [
    "lista_vacia = []\n",
    "\n",
    "lista_vacia.append(\"Calecita\")\n",
    "lista_vacia.append(\"Tobogan\")\n",
    "lista_vacia.append(\"SubeyBaja\")\n",
    "print(lista_vacia)"
   ]
  },
  {
   "cell_type": "markdown",
   "id": "2e393066",
   "metadata": {},
   "source": [
    "4) Reemplazar el segundo y último valor de la lista “animales” con las palabras “loro” y “oso”,\n",
    "respectivamente. Imprimir la lista resultante por pantalla."
   ]
  },
  {
   "cell_type": "code",
   "execution_count": 25,
   "id": "7d03daea",
   "metadata": {},
   "outputs": [
    {
     "name": "stdout",
     "output_type": "stream",
     "text": [
      "['perro', 'loro', 'conejo', 'oso']\n"
     ]
    }
   ],
   "source": [
    "animales=[\"perro\", \"gato\", \"conejo\", \"pez\"]\n",
    "\n",
    "animales[1]=\"loro\"\n",
    "animales[-1]=\"oso\"\n",
    "\n",
    "print(animales)"
   ]
  },
  {
   "cell_type": "markdown",
   "id": "2f779792",
   "metadata": {},
   "source": [
    "5) Analizar el siguiente programa y explicar con tus palabras qué es lo que realiza.\n",
    "\n",
    "Crea una lista llamadas numeros, remueve el numero mas alto con max de la lista y luego la imprime sin el numero mas alto"
   ]
  },
  {
   "cell_type": "code",
   "execution_count": 26,
   "id": "9773718b",
   "metadata": {},
   "outputs": [
    {
     "name": "stdout",
     "output_type": "stream",
     "text": [
      "[8, 15, 3, 7]\n"
     ]
    }
   ],
   "source": [
    "numeros = [8,15,3,22,7]\n",
    "numeros.remove(max(numeros))\n",
    "print(numeros)"
   ]
  },
  {
   "cell_type": "markdown",
   "id": "cbd5390b",
   "metadata": {},
   "source": [
    "6) Crear una lista con números del 10 al 30 (incluído), haciendo saltos de 5 en 5 y mostrar por\n",
    "pantalla los dos primeros."
   ]
  },
  {
   "cell_type": "code",
   "execution_count": 33,
   "id": "bb134eef",
   "metadata": {},
   "outputs": [
    {
     "name": "stdout",
     "output_type": "stream",
     "text": [
      "[10, 15, 20, 25, 30]\n"
     ]
    }
   ],
   "source": [
    "numeros=list(range(10,31,5))\n",
    "print(numeros)"
   ]
  },
  {
   "cell_type": "markdown",
   "id": "e2dc2a10",
   "metadata": {},
   "source": [
    "7) Reemplazar los dos valores centrales (índices 1 y 2) de la lista “autos” por dos nuevos valores\n",
    "cualesquiera."
   ]
  },
  {
   "cell_type": "code",
   "execution_count": 34,
   "id": "f4222a37",
   "metadata": {},
   "outputs": [
    {
     "name": "stdout",
     "output_type": "stream",
     "text": [
      "['sedan', 'focus', 'cronos', 'gol']\n"
     ]
    }
   ],
   "source": [
    "autos = [\"sedan\", \"polo\", \"suran\", \"gol\"]\n",
    "autos[1]=\"focus\"\n",
    "autos[2]=\"cronos\"\n",
    "print(autos)"
   ]
  },
  {
   "cell_type": "markdown",
   "id": "8346be1e",
   "metadata": {},
   "source": [
    "8) Crear una lista vacía llamada \"dobles\" y agregar el doble de 5, 10 y 15 usando append\n",
    "directamente. Imprimir la lista resultante por pantalla."
   ]
  },
  {
   "cell_type": "code",
   "execution_count": 37,
   "id": "f1868353",
   "metadata": {},
   "outputs": [
    {
     "name": "stdout",
     "output_type": "stream",
     "text": [
      "[10, 20, 30]\n"
     ]
    }
   ],
   "source": [
    "dobles=[]\n",
    "dobles.append(5*2)\n",
    "dobles.append(10*2)\n",
    "dobles.append(15*2)\n",
    "print(dobles)"
   ]
  },
  {
   "cell_type": "markdown",
   "id": "de07e297",
   "metadata": {},
   "source": [
    "9) Dada la lista “compras”, cuyos elementos representan los productos comprados por\n",
    "diferentes clientes:\n",
    "compras = [[\"pan\", \"leche\"], [\"arroz\", \"fideos\", \"salsa\"],\n",
    "[\"agua\"]]\n",
    "a) Agregar \"jugo\" a la lista del tercer cliente usando append.\n",
    "b) Reemplazar \"fideos\" por \"tallarines\" en la lista del segundo cliente.\n",
    "c) Eliminar \"pan\" de la lista del primer cliente.\n",
    "d) Imprimir la lista resultante por pantalla"
   ]
  },
  {
   "cell_type": "code",
   "execution_count": 50,
   "id": "150b4fdd",
   "metadata": {},
   "outputs": [
    {
     "name": "stdout",
     "output_type": "stream",
     "text": [
      "[['leche'], ['arroz', 'salsa', 'tallarines'], ['agua', 'jugo']]\n"
     ]
    }
   ],
   "source": [
    "compras = [\n",
    "    [\"pan\", \"leche\"], \n",
    "    [\"arroz\", \"fideos\", \"salsa\"],\n",
    "    [\"agua\"]\n",
    "    ]\n",
    "\n",
    "compras[2].append(\"jugo\")\n",
    "compras[1].remove(\"fideos\")\n",
    "compras[1].append(\"tallarines\")\n",
    "compras[0].remove(\"pan\")\n",
    "\n",
    "print(compras)"
   ]
  },
  {
   "cell_type": "markdown",
   "id": "29acc44b",
   "metadata": {},
   "source": [
    "10) Elaborar una lista anidada llamada “lista_anidada” que contenga los siguientes elementos:\n",
    "●​ Posición lista_anidada[0]: 15\n",
    "●​ Posición lista_anidada[1]: True\n",
    "●​ Posición lista_anidada[2][0]: 25.5\n",
    "●​ Posición lista_anidada[2][1]: 57.9\n",
    "●​ Posición lista_anidada[2][2]: 30.6\n",
    "●​ Posición lista_anidada[3]: False\n",
    "Imprimir la lista resultante por pantalla."
   ]
  },
  {
   "cell_type": "code",
   "execution_count": 54,
   "id": "5e8a80e8",
   "metadata": {},
   "outputs": [
    {
     "name": "stdout",
     "output_type": "stream",
     "text": [
      "(15, True, [25.5, 57.9, 30.6], False)\n"
     ]
    }
   ],
   "source": [
    "lista_anidada = (15,True,[25.5,57.9,30.6],False)\n",
    "print(lista_anidada)"
   ]
  }
 ],
 "metadata": {
  "kernelspec": {
   "display_name": ".venv",
   "language": "python",
   "name": "python3"
  },
  "language_info": {
   "codemirror_mode": {
    "name": "ipython",
    "version": 3
   },
   "file_extension": ".py",
   "mimetype": "text/x-python",
   "name": "python",
   "nbconvert_exporter": "python",
   "pygments_lexer": "ipython3",
   "version": "3.12.3"
  }
 },
 "nbformat": 4,
 "nbformat_minor": 5
}
