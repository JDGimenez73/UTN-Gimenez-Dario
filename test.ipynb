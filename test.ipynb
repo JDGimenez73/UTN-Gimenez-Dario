{
 "cells": [
  {
   "cell_type": "code",
   "execution_count": 9,
   "id": "e33edee6",
   "metadata": {},
   "outputs": [
    {
     "name": "stdout",
     "output_type": "stream",
     "text": [
      "Debntro\n"
     ]
    }
   ],
   "source": [
    "x = 10\n",
    "if x > 5 or x <15:\n",
    "    print(\"Debntro\")\n",
    "else:\n",
    "    print(\"Fuera\")"
   ]
  }
 ],
 "metadata": {
  "kernelspec": {
   "display_name": ".venv",
   "language": "python",
   "name": "python3"
  },
  "language_info": {
   "codemirror_mode": {
    "name": "ipython",
    "version": 3
   },
   "file_extension": ".py",
   "mimetype": "text/x-python",
   "name": "python",
   "nbconvert_exporter": "python",
   "pygments_lexer": "ipython3",
   "version": "3.12.3"
  }
 },
 "nbformat": 4,
 "nbformat_minor": 5
}
