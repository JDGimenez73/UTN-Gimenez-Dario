{
  "nbformat": 4,
  "nbformat_minor": 0,
  "metadata": {
    "colab": {
      "provenance": []
    },
    "kernelspec": {
      "name": "python3",
      "display_name": "Python 3"
    },
    "language_info": {
      "name": "python"
    }
  },
  "cells": [
    {
      "cell_type": "markdown",
      "source": [
        "# 🐍 Listas Enlazadas en Python - ¡Aprende con diversión! 🚀\n",
        "\n",
        "## 📌 Introducción\n",
        "\n",
        "Las **listas enlazadas** son estructuras de datos súper útiles 📦 que nos permiten almacenar elementos de manera flexible, sin preocuparnos por el tamaño fijo de una lista tradicional. 😃\n",
        "\n",
        "A diferencia de una lista normal en Python, donde los elementos se almacenan en posiciones contiguas de memoria, en una lista enlazada cada elemento (**nodo**) contiene:\n",
        "\n",
        "✅ Un **dato** 🎯 ✅ Un **puntero** 🔗 al siguiente nodo\n",
        "\n",
        "¡Vamos a explorar cómo funcionan y cómo implementarlas en Python! 🏗️\n",
        "\n"
      ],
      "metadata": {
        "id": "3d8IViAaD9Gx"
      }
    },
    {
      "cell_type": "markdown",
      "source": [
        "## 🔹 Tipos de Listas Enlazadas\n",
        "\n",
        "Existen varios tipos de listas enlazadas, cada una con características particulares:\n",
        "\n",
        "1️⃣ **Lista simplemente enlazada**: Cada nodo apunta al siguiente nodo en la secuencia.\n",
        "2️⃣ **Lista doblemente enlazada**: Cada nodo tiene punteros tanto al nodo anterior como al siguiente.\n",
        "3️⃣ **Lista circular**: El último nodo apunta al primer nodo, creando un ciclo infinito. 🔄"
      ],
      "metadata": {
        "id": "ZtFvioKvERb4"
      }
    },
    {
      "cell_type": "markdown",
      "source": [
        "## 🛠️ Implementación en Python\n",
        "\n",
        "### ✨ Lista Simplemente Enlazada\n"
      ],
      "metadata": {
        "id": "F9WQR1ZyEY3n"
      }
    },
    {
      "cell_type": "code",
      "source": [
        "class Nodo:\n",
        "    def __init__(self, dato):\n",
        "        self.dato = dato  # El valor del nodo 🎯\n",
        "        self.siguiente = None  # Puntero al siguiente nodo 🔗\n",
        "\n",
        "class ListaEnlazada:\n",
        "    def __init__(self):\n",
        "        self.cabeza = None  # La lista comienza vacía 😶\n",
        "\n",
        "    def insertar(self, dato):\n",
        "        nuevo_nodo = Nodo(dato)\n",
        "        nuevo_nodo.siguiente = self.cabeza\n",
        "        self.cabeza = nuevo_nodo\n",
        "\n",
        "    def mostrar(self):\n",
        "        actual = self.cabeza\n",
        "        while actual:\n",
        "            print(actual.dato, end=' ➡️ ')\n",
        "            actual = actual.siguiente\n",
        "        print(\"None\")\n",
        "\n",
        "# 🚀 Probemos nuestra lista enlazada\n",
        "lista = ListaEnlazada()\n",
        "lista.insertar(3)\n",
        "lista.insertar(2)\n",
        "lista.insertar(1)\n",
        "lista.mostrar()  # Salida esperada: 1 ➡️ 2 ➡️ 3 ➡️ None\n"
      ],
      "metadata": {
        "id": "vXC6g9aKEzxn",
        "outputId": "af68fa02-fd64-4e55-9329-e92e167155e5",
        "colab": {
          "base_uri": "https://localhost:8080/"
        }
      },
      "execution_count": null,
      "outputs": [
        {
          "output_type": "stream",
          "name": "stdout",
          "text": [
            "1 ➡️ 2 ➡️ 3 ➡️ None\n"
          ]
        }
      ]
    },
    {
      "cell_type": "markdown",
      "source": [
        "## 🔄 Lista Doblemente Enlazada"
      ],
      "metadata": {
        "id": "lDUgvJ51E42H"
      }
    },
    {
      "cell_type": "code",
      "source": [
        "class NodoDoble:\n",
        "    def __init__(self, dato):\n",
        "        self.dato = dato\n",
        "        self.siguiente = None\n",
        "        self.anterior = None\n",
        "\n",
        "class ListaDoble:\n",
        "    def __init__(self):\n",
        "        self.cabeza = None\n",
        "\n",
        "    def insertar(self, dato):\n",
        "        nuevo_nodo = NodoDoble(dato)\n",
        "        if self.cabeza:\n",
        "            self.cabeza.anterior = nuevo_nodo\n",
        "        nuevo_nodo.siguiente = self.cabeza\n",
        "        self.cabeza = nuevo_nodo\n",
        "\n",
        "    def mostrar(self):\n",
        "        actual = self.cabeza\n",
        "        while actual:\n",
        "            print(actual.dato, end=' ⬅️➡️ ')\n",
        "            actual = actual.siguiente\n",
        "        print(\"None\")\n",
        "\n",
        "# 🚀 Probemos nuestra lista doblemente enlazada\n",
        "lista_doble = ListaDoble()\n",
        "lista_doble.insertar(3)\n",
        "lista_doble.insertar(2)\n",
        "lista_doble.insertar(1)\n",
        "lista_doble.mostrar()  # Salida esperada: 1 ⬅️➡️ 2 ⬅️➡️ 3 ⬅️➡️ None"
      ],
      "metadata": {
        "id": "yLISdxOAE8cX"
      },
      "execution_count": null,
      "outputs": []
    },
    {
      "cell_type": "markdown",
      "source": [
        "## 🔁 Lista Circular"
      ],
      "metadata": {
        "id": "nD1J21WiFAnp"
      }
    },
    {
      "cell_type": "code",
      "source": [
        "class NodoCircular:\n",
        "    def __init__(self, dato):\n",
        "        self.dato = dato\n",
        "        self.siguiente = None\n",
        "\n",
        "class ListaCircular:\n",
        "    def __init__(self):\n",
        "        self.cabeza = None\n",
        "\n",
        "    def insertar(self, dato):\n",
        "        nuevo_nodo = NodoCircular(dato)\n",
        "        if not self.cabeza:\n",
        "            self.cabeza = nuevo_nodo\n",
        "            self.cabeza.siguiente = self.cabeza\n",
        "        else:\n",
        "            temp = self.cabeza\n",
        "            while temp.siguiente != self.cabeza:\n",
        "                temp = temp.siguiente\n",
        "            temp.siguiente = nuevo_nodo\n",
        "            nuevo_nodo.siguiente = self.cabeza\n",
        "\n",
        "    def mostrar(self, n):\n",
        "        actual = self.cabeza\n",
        "        for _ in range(n):\n",
        "            print(actual.dato, end=' 🔄 ')\n",
        "            actual = actual.siguiente\n",
        "        print(\"...\")\n",
        "\n",
        "# 🚀 Probemos nuestra lista circular\n",
        "lista_circular = ListaCircular()\n",
        "lista_circular.insertar(3)\n",
        "lista_circular.insertar(2)\n",
        "lista_circular.insertar(1)\n",
        "lista_circular.mostrar(6)  # Mostramos 6 elementos para evitar bucle infinito"
      ],
      "metadata": {
        "id": "0LLMVFiXFEf3"
      },
      "execution_count": null,
      "outputs": []
    },
    {
      "cell_type": "markdown",
      "source": [
        "## 🎯 Aplicaciones de las Listas Enlazadas\n",
        "\n",
        "Las listas enlazadas son muy útiles en programación, y se utilizan en: ✅ Implementación de **pilas y colas** ✅ **Gestión de memoria** en sistemas operativos ✅ **Representación de estructuras jerárquicas** como árboles y grafos 🌳"
      ],
      "metadata": {
        "id": "GZNJlj36EhV_"
      }
    },
    {
      "cell_type": "markdown",
      "source": [
        "---\n",
        "## 🏆 Conclusión\n",
        "\n",
        "Las **listas enlazadas** son una herramienta poderosa 💪 para manejar estructuras de datos dinámicas.\n",
        "\n",
        "🎉 ¡Ahora ya sabes cómo funcionan y cómo programarlas en Python! 🚀\n",
        "\n",
        "Si quieres seguir aprendiendo, prueba modificarlas y agregar más funcionalidades. ¡Diviértete programando! 😃🔥\n",
        "---"
      ],
      "metadata": {
        "id": "o_-T8c9JEj5X"
      }
    }
  ]
}